{
 "cells": [
  {
   "cell_type": "markdown",
   "metadata": {},
   "source": [
    "##### %course_name%\n",
    "# %title%\n",
    "---\n",
    "**_Author: Name_**\n",
    "\n",
    "**Expected Time = %expected_time%**\n",
    "\n",
    "**Total Points = X points**\n"
   ]
  },
  {
   "cell_type": "markdown",
   "metadata": {},
   "source": [
    "\n",
    "    \n",
    "## Overview\n",
    "\n",
    "**Notes: Assignment Description/High Level Explanation To Be Edited for Each Assignment. Please avoid module number references.**\n",
    "\n",
    "In this assignment you will work with the Python data types you learned this module, such as integers, floats, booleans, lists, tuples, and dictionaries. You will also practice using comparison and logical operators. In the second half of the assignment, you will use built-in and user-defined functions. You will also work with loops and conditional statements. Before you begin the assignment, review the instructions below and complete Question 0 to practice using Vocareum.\n",
    "\n",
    "**Notes: Assignment Expectation Setting and Tips To Be Copied and Used in Every Assignment** \n",
    "\n",
    "This assignment is designed to build your familiarity and comfort coding in Python while also helping you review key topics from each module. As you progress through the assignment, answers will get increasingly complex. It is important that you adopt a data scientist's mindset when completing this assignment. **Remember to run your code from each cell before submitting your assignment.** Running your code beforehand will notify you of errors and give you a chance to fix your errors before submitting. You should view your Vocareum submission as if you are delivering a final project to your manager or client. \n",
    "\n",
    "***Vocareum Tips***\n",
    "- Do not add arguments or options to functions unless you are specifically asked to. This will cause an error in Vocareum.\n",
    "- Do not use a library unless you are expicitly asked to in the question. \n",
    "\n",
    "\n",
    "### Learning Objectives\n",
    "\n",
    "**Notes: Use Learning Objectives from each Module(s) found in Course Flow**\n",
    "- Use Jupyter Notebooks to begin programming in Python.  \n",
    "- Identify Python data types including strings, integers, floats, booleans, lists, and tuples. \n",
    "- Explain the operations that can be performed on a given data type.  \n",
    "- Examine the benefits and limitations of using lists, tuples, and dictionaries to store and organize your data. \n",
    "- Explain the benefits of functions in performing specified tasks in Python.  \n",
    "- Use built in functions to perform common tasks in Python.  \n",
    "- Use methods to perform analyses on specific data types.  \n",
    "- Create custom functions to perform custom analyses relevant to the dataset or research question. \n",
    " \n",
    "\n"
   ]
  },
  {
   "cell_type": "markdown",
   "metadata": {},
   "source": [
    "\n",
    "\n",
    "## Index:\n",
    "\n",
    "- [Question 1](#Question-1)\n",
    "- [Question 2](#Question-2)\n",
    "- [Question 3](#Question-3)\n",
    "- [Question 4](#Question-4)\n",
    "- [Question 5](#Question-5)\n",
    "- [Question 6](#Question-6)\n",
    "- [Question 7](#Question-7)\n",
    "- [Question 8](#Question-8)\n",
    "- [Question 9](#Question-9)\n",
    "- [Question 10](#Question-10)\n",
    "- [Question 11](#Question-11)\n",
    "- [Question 12](#Question-12)\n"
   ]
  },
  {
   "cell_type": "markdown",
   "metadata": {},
   "source": [
    "\n",
    "## %title%\n",
    "\n",
    "**Notes: Include a summary or description of the content covered**\n",
    "\n",
    "In the first part of this assignment, we will be testing your knowledge of the topics covered in Python basics, such as basic data types (`int`, `floats`, and `str`) as well as lists, tuples and dictonaries."
   ]
  },
  {
   "cell_type": "markdown",
   "metadata": {},
   "source": [
    "\n",
    "\n",
    "**Notes: Include a header for the topic and a brief topic description to remind the learner of the key concepts, important things to remember, etc. Also include a header with each question number for each header. And add a link back to the top of the assignment.**\n",
    "\n",
    "### Topic Title\n",
    "Topic description & important things to remember:We will begin this assignment with a review of the floats. As you have learned, a float is a data type designed to store decimal numbers."
   ]
  },
  {
   "cell_type": "markdown",
   "metadata": {},
   "source": [
    "[Back to top](#Index:) \n",
    "\n",
    "### Question 1\n",
    "*x points*\n",
    "\n",
    "Assign the value of 175 multiplied by 16.28 to the variable `ans1` and make sure it's stored as a float."
   ]
  },
  {
   "cell_type": "code",
   "execution_count": 1,
   "metadata": {},
   "outputs": [
    {
     "name": "stdout",
     "output_type": "stream",
     "text": [
      "2849.0\n",
      "<class 'float'>\n"
     ]
    }
   ],
   "source": [
    "### GRADED\n",
    "\n",
    "### YOUR SOLUTION HERE\n",
    "ans1 = None\n",
    "\n",
    "### BEGIN SOLUTION\n",
    "ans1 = 175*16.28\n",
    "type(ans1)\n",
    "### END SOLUTION\n",
    "\n",
    "# Answer check\n",
    "print(ans1)\n",
    "print(type(ans1))"
   ]
  },
  {
   "cell_type": "code",
   "execution_count": 2,
   "metadata": {},
   "outputs": [],
   "source": [
    "### BEGIN HIDDEN TESTS\n",
    "ans1_ = 175*16.28\n",
    "#\n",
    "#\n",
    "#\n",
    "assert type(ans1_) == type(ans1)\n",
    "assert ans1_ == ans1\n",
    "### END HIDDEN TESTS"
   ]
  },
  {
   "cell_type": "markdown",
   "metadata": {},
   "source": [
    "[Back to top](#Index:) \n",
    "\n",
    "### Question 2\n",
    "*x points*\n",
    "\n",
    "Question 2 description...."
   ]
  },
  {
   "cell_type": "code",
   "execution_count": 3,
   "metadata": {},
   "outputs": [],
   "source": [
    "### GRADED\n",
    "\n",
    "### YOUR SOLUTION HERE\n",
    "ans2 = None\n",
    "\n",
    "### BEGIN SOLUTION\n",
    "ans2 = 42\n",
    "### END SOLUTION\n",
    "\n",
    "# Answer check"
   ]
  },
  {
   "cell_type": "code",
   "execution_count": 4,
   "metadata": {},
   "outputs": [],
   "source": [
    "### BEGIN HIDDEN TESTS\n",
    "# Answer computation\n",
    "ans2_ = 42\n",
    "#\n",
    "#\n",
    "#\n",
    "# Compare variables using assert\n",
    "assert ans2_ == ans2\n",
    "### END HIDDEN TESTS"
   ]
  }
 ],
 "metadata": {
  "kernelspec": {
   "display_name": "Python 3",
   "language": "python",
   "name": "python3"
  },
  "language_info": {
   "codemirror_mode": {
    "name": "ipython",
    "version": 3
   },
   "file_extension": ".py",
   "mimetype": "text/x-python",
   "name": "python",
   "nbconvert_exporter": "python",
   "pygments_lexer": "ipython3",
   "version": "3.8.3"
  }
 },
 "nbformat": 4,
 "nbformat_minor": 4
}
